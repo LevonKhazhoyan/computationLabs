{
 "cells": [
  {
   "cell_type": "code",
   "execution_count": 1,
   "id": "cb02831d",
   "metadata": {},
   "outputs": [],
   "source": [
    "import numpy as np\n",
    "from src.penalty import penalty_print\n",
    "from src.barrier import barrier_print\n",
    "from src.lagrange import lagrange_print"
   ]
  },
  {
   "cell_type": "markdown",
   "id": "22954257",
   "metadata": {},
   "source": [
    "# Results"
   ]
  },
  {
   "cell_type": "code",
   "execution_count": 2,
   "id": "ce4b331f",
   "metadata": {},
   "outputs": [
    {
     "name": "stdout",
     "output_type": "stream",
     "text": [
      "Функция: x\n",
      "Условие: 10 - x <= 0\n",
      "\n",
      "Метод штрафных функций\n",
      "Количество итераций: 114\n",
      "Ответ: [10.00000001]\n",
      "\n",
      "Метод барьерных функций\n",
      "Количество итераций: 112\n",
      "Ответ: [10.09623626]\n",
      "\n",
      "Метод модифицированных функций Лагранжа\n",
      "Количество итераций: 249\n",
      "Ответ: [10.29366262]\n",
      "\n"
     ]
    }
   ],
   "source": [
    "eps = 1e-9\n",
    "\n",
    "f1 = lambda x: x\n",
    "print('Функция: x')\n",
    "print('Условие: 10 - x <= 0\\n')\n",
    "\n",
    "penalty_print(f=f1,\n",
    "        x_0=np.array([9]),\n",
    "        phis=np.array([lambda x: 10 - x]),\n",
    "        psis=[],\n",
    "        eps=eps,\n",
    "        coef=1.2,\n",
    "        p=2,\n",
    "        alpha=1000)\n",
    "\n",
    "barrier_print(f=f1,\n",
    "        x_0=np.array([11]),\n",
    "        phis=np.array([lambda x: 10 - x]),\n",
    "        mu=1000,\n",
    "        eps=eps,\n",
    "        coef=0.9)\n",
    "\n",
    "lagrange_print(f=f1, \n",
    "        phis=np.array([lambda x: 10 - x]), \n",
    "        our_lambda=np.array([0.1]), \n",
    "        a=0.1, \n",
    "        alpha=0.01, \n",
    "        x_0=np.array([11]), \n",
    "        eps=eps)"
   ]
  },
  {
   "cell_type": "code",
   "execution_count": 3,
   "id": "43464d9c",
   "metadata": {},
   "outputs": [
    {
     "name": "stdout",
     "output_type": "stream",
     "text": [
      "Функция: (x_0 - 10)^2 + (x_1 - 10)^2\n",
      "Условие: x_0 >= 0, x_1 >= 0\n",
      "\n",
      "Метод штрафных функций\n",
      "Количество итераций: 1\n",
      "Ответ: [9.99999759 9.99999759]\n",
      "\n",
      "Метод барьерных функций\n",
      "Количество итераций: 182\n",
      "Ответ: [10.00000282 10.00000282]\n",
      "\n",
      "Метод модифицированных функций Лагранжа\n",
      "Количество итераций: 22\n",
      "Ответ: [10.00000954  9.99999807]\n",
      "\n"
     ]
    }
   ],
   "source": [
    "eps = 1e-9\n",
    "\n",
    "f2 = lambda x: (x[0] - 10) ** 2 + (x[1] - 10) ** 2\n",
    "print('Функция: (x_0 - 10)^2 + (x_1 - 10)^2')\n",
    "print('Условие: x_0 >= 0, x_1 >= 0\\n')\n",
    "\n",
    "penalty_print(f=f2,\n",
    "        x_0=np.array([-15, -15]),\n",
    "        phis=np.array([lambda x: -x[0], lambda x: -x[1]]),\n",
    "        psis=[],\n",
    "        eps=eps,\n",
    "        coef=1.2,\n",
    "        p=2,\n",
    "        alpha=10000)\n",
    "\n",
    "barrier_print(f=f2,\n",
    "        x_0=np.array([30, 6]),\n",
    "        phis=np.array([lambda x: -x[0], lambda x: -x[1]]),\n",
    "        mu=1,\n",
    "        eps=eps,\n",
    "        coef=0.9)\n",
    "\n",
    "lagrange_print(f=f2, \n",
    "        phis=np.array([lambda x: -x[0], lambda x: -x[1]]),\n",
    "        our_lambda=np.array([0.1]), \n",
    "        a=0.1, \n",
    "        alpha=0.5, \n",
    "        x_0=np.array([30, 6]),\n",
    "        eps=eps)"
   ]
  },
  {
   "cell_type": "code",
   "execution_count": 4,
   "id": "833ef891",
   "metadata": {},
   "outputs": [
    {
     "name": "stdout",
     "output_type": "stream",
     "text": [
      "Функция: (1 - x_0)^2 + 5*(x_1 - x_0^2)^2\n",
      "Условие: x_1 - 2/3*x_0 + 4 <= 0\n",
      "\n",
      "Метод штрафных функций\n",
      "Количество итераций: 87\n",
      "Ответ: [ 0.35000715 -3.7666619 ]\n",
      "\n",
      "Метод барьерных функций\n",
      "Количество итераций: 183\n",
      "Ответ: [ 0.34834823 -4.21868983]\n",
      "\n",
      "Метод модифицированных функций Лагранжа\n",
      "Количество итераций: 111\n",
      "Ответ: [ 0.35004597 -3.76659147]\n",
      "\n"
     ]
    }
   ],
   "source": [
    "eps = 1e-9\n",
    "\n",
    "f3 = lambda x: (1 - x[0]) ** 2 + 5 * (x[1] - x[0] ** 2) ** 2\n",
    "print('Функция: (1 - x_0)^2 + 5*(x_1 - x_0^2)^2')\n",
    "print('Условие: x_1 - 2/3*x_0 + 4 <= 0\\n')\n",
    "#wolfram 0.34, -3.7\n",
    "penalty_print(f=f3,\n",
    "        x_0=np.array([0, 10]),\n",
    "        phis=np.array([lambda x: x[1] - 2 / 3 * x[0] + 4]),\n",
    "        psis=[],\n",
    "        eps=eps,\n",
    "        coef=1.2,\n",
    "        p=2,\n",
    "        alpha=10000)\n",
    "\n",
    "barrier_print(f=f3,\n",
    "        x_0=np.array([0, -10]),\n",
    "        phis=np.array([lambda x: x[1] - 2 / 3 * x[0] + 4]),\n",
    "        mu=100000,\n",
    "        eps=eps,\n",
    "        coef=0.95)\n",
    "\n",
    "lagrange_print(f=f3, \n",
    "        phis=np.array([lambda x: x[1] - 2 / 3 * x[0] + 4]),\n",
    "        our_lambda=np.array([0.1]), \n",
    "        a=1, \n",
    "        alpha=0.1, \n",
    "        x_0=np.array([0, -10]),\n",
    "        eps=eps)\n",
    "\n"
   ]
  }
 ],
 "metadata": {
  "kernelspec": {
   "display_name": "Python 3 (ipykernel)",
   "language": "python",
   "name": "python3"
  },
  "language_info": {
   "codemirror_mode": {
    "name": "ipython",
    "version": 3
   },
   "file_extension": ".py",
   "mimetype": "text/x-python",
   "name": "python",
   "nbconvert_exporter": "python",
   "pygments_lexer": "ipython3",
   "version": "3.9.12"
  }
 },
 "nbformat": 4,
 "nbformat_minor": 5
}
