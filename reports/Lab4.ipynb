{
 "cells": [
  {
   "cell_type": "code",
   "execution_count": 38,
   "metadata": {
    "collapsed": true
   },
   "outputs": [],
   "source": [
    "import numpy as np\n",
    "from scipy import linalg\n",
    "from scipy.sparse import diags\n",
    "import pandas as pd\n",
    "\n",
    "from src import sle\n",
    "from src.utils import print_matrix\n",
    "\n",
    "\n",
    "def answer(a: np.ndarray, b: np.ndarray, eps: float = 10e-6) -> None:\n",
    "    print(\"Initial matrix:\", end=\"\")\n",
    "    print_matrix(a)\n",
    "\n",
    "    print(\"Right part:\", end=\"\")\n",
    "    print_matrix(b)\n",
    "\n",
    "    print(\"ε =\", eps)\n",
    "    (x_iter, x_iter_count) = sle.solve(a, b, sle.SolveMethod.SimpleIteration, eps=eps)\n",
    "    (x_seidel, x_seidel_count) = sle.solve(a, b, sle.SolveMethod.Seidel, eps=eps)\n",
    "\n",
    "    print(\"Simple iteration\", end=\"\")\n",
    "    print_matrix(x_iter)\n",
    "    print(\"Amount of iterations:\", x_iter_count)\n",
    "\n",
    "    print(\"Seidel\", end=\"\")\n",
    "    print_matrix(x_seidel)\n",
    "    print(\"Amount of iterations:\", x_seidel_count)\n",
    "    diff = linalg.norm(x_iter - x_seidel.T)\n",
    "    print(\"Iter solution\", end=\"\")\n",
    "    print_matrix(x_iter @ a1)\n",
    "    print(\"Seidel solution\", end=\"\")\n",
    "    print_matrix(x_seidel.T @ a1)\n",
    "    print(\"abs(x_iter - x_seidel) =\", diff)"
   ]
  },
  {
   "cell_type": "code",
   "execution_count": 40,
   "outputs": [
    {
     "name": "stdout",
     "output_type": "stream",
     "text": [
      "Initial matrix:        \n",
      " 2 -1  0\n",
      "-1  2 -1\n",
      " 0 -1  2\n",
      "Right part:                  \n",
      "0.5000000000000000\n",
      "1.0000000000000000\n",
      "1.5000000000000000\n",
      "ε = 1e-05\n",
      "Simple iteration                  \n",
      "1.2500000000000000\n",
      "2.0000000000000000\n",
      "1.7500000000000000\n",
      "Amount of iterations: 108\n",
      "Seidel                  \n",
      "1.2499986886978149\n",
      "1.9999986886978149\n",
      "1.7499993443489075\n",
      "Amount of iterations: 20\n",
      "Iter solution                  \n",
      "0.5000000000000000\n",
      "1.0000000000000000\n",
      "1.5000000000000000\n",
      "Seidel solution                                                        \n",
      "0.4999986886978149 0.9999993443489075 1.5000000000000000\n",
      "abs(x_iter - x_seidel) = 1.9669532775878906e-06\n"
     ]
    },
    {
     "name": "stderr",
     "output_type": "stream",
     "text": [
      "/Users/levonkhazho/PycharmProjects/compute/src/sle.py:97: RuntimeWarning: divide by zero encountered in scalar divide\n",
      "  diff = norm_big_b / (1 - norm_big_b) * linalg.norm(x - prev_x)\n",
      "/Users/levonkhazho/PycharmProjects/compute/src/sle.py:97: RuntimeWarning: invalid value encountered in scalar multiply\n",
      "  diff = norm_big_b / (1 - norm_big_b) * linalg.norm(x - prev_x)\n"
     ]
    }
   ],
   "source": [
    "a1 = np.array([[2, -1, 0], [-1, 2, -1], [0, -1, 2]])\n",
    "\n",
    "b1 = np.array([[0.5], [1], [1.5]])\n",
    "answer(a1, b1)"
   ],
   "metadata": {
    "collapsed": false
   }
  },
  {
   "cell_type": "code",
   "execution_count": 31,
   "outputs": [
    {
     "name": "stdout",
     "output_type": "stream",
     "text": [
      "Initial matrix:        \n",
      "25 15 -5\n",
      "15 18  0\n",
      "-5  0 11\n",
      "Right part: \n",
      "1\n",
      "1\n",
      "1\n",
      "ε = 1e-05\n",
      "Simple iteration                  \n",
      "0.0607397737681031\n",
      "0.0049387372515493\n",
      "0.1185182645294580\n",
      "Amount of iterations: 41\n",
      "Seidel                  \n",
      "0.0607397951199307\n",
      "0.0049390596222800\n",
      "0.1185180886908776\n",
      "Amount of iterations: 19\n",
      "Iter solution                   \n",
      " 0.1165408102846569\n",
      "-0.1693805637944625\n",
      " 0.2320977918073667\n",
      "Seidel solution"
     ]
    },
    {
     "ename": "ValueError",
     "evalue": "matmul: Input operand 1 has a mismatch in its core dimension 0, with gufunc signature (n?,k),(k,m?)->(n?,m?) (size 3 is different from 1)",
     "output_type": "error",
     "traceback": [
      "\u001B[0;31m---------------------------------------------------------------------------\u001B[0m",
      "\u001B[0;31mValueError\u001B[0m                                Traceback (most recent call last)",
      "Cell \u001B[0;32mIn[31], line 3\u001B[0m\n\u001B[1;32m      1\u001B[0m a2 \u001B[38;5;241m=\u001B[39m np\u001B[38;5;241m.\u001B[39marray([[\u001B[38;5;241m25\u001B[39m, \u001B[38;5;241m15\u001B[39m, \u001B[38;5;241m-\u001B[39m\u001B[38;5;241m5\u001B[39m], [\u001B[38;5;241m15\u001B[39m, \u001B[38;5;241m18\u001B[39m, \u001B[38;5;241m0\u001B[39m], [\u001B[38;5;241m-\u001B[39m\u001B[38;5;241m5\u001B[39m, \u001B[38;5;241m0\u001B[39m, \u001B[38;5;241m11\u001B[39m]])\n\u001B[1;32m      2\u001B[0m b2 \u001B[38;5;241m=\u001B[39m np\u001B[38;5;241m.\u001B[39marray([[\u001B[38;5;241m1\u001B[39m], [\u001B[38;5;241m1\u001B[39m], [\u001B[38;5;241m1\u001B[39m]])\n\u001B[0;32m----> 3\u001B[0m \u001B[43manswer\u001B[49m\u001B[43m(\u001B[49m\u001B[43ma2\u001B[49m\u001B[43m,\u001B[49m\u001B[43m \u001B[49m\u001B[43mb2\u001B[49m\u001B[43m)\u001B[49m\n",
      "Cell \u001B[0;32mIn[29], line 32\u001B[0m, in \u001B[0;36manswer\u001B[0;34m(a, b, eps)\u001B[0m\n\u001B[1;32m     30\u001B[0m print_matrix(x_iter \u001B[38;5;241m@\u001B[39m a1)\n\u001B[1;32m     31\u001B[0m \u001B[38;5;28mprint\u001B[39m(\u001B[38;5;124m\"\u001B[39m\u001B[38;5;124mSeidel solution\u001B[39m\u001B[38;5;124m\"\u001B[39m, end\u001B[38;5;241m=\u001B[39m\u001B[38;5;124m\"\u001B[39m\u001B[38;5;124m\"\u001B[39m)\n\u001B[0;32m---> 32\u001B[0m print_matrix(\u001B[43mx_seidel\u001B[49m\u001B[43m \u001B[49m\u001B[38;5;241;43m@\u001B[39;49m\u001B[43m \u001B[49m\u001B[43ma1\u001B[49m)\n\u001B[1;32m     33\u001B[0m \u001B[38;5;28mprint\u001B[39m(\u001B[38;5;124m\"\u001B[39m\u001B[38;5;124mabs(x_iter - x_seidel) =\u001B[39m\u001B[38;5;124m\"\u001B[39m, diff)\n",
      "\u001B[0;31mValueError\u001B[0m: matmul: Input operand 1 has a mismatch in its core dimension 0, with gufunc signature (n?,k),(k,m?)->(n?,m?) (size 3 is different from 1)"
     ]
    }
   ],
   "source": [
    "a2 = np.array([[25, 15, -5], [15, 18, 0], [-5, 0, 11]])\n",
    "b2 = np.array([[1], [1], [1]])\n",
    "answer(a2, b2)"
   ],
   "metadata": {
    "collapsed": false
   }
  },
  {
   "cell_type": "code",
   "execution_count": 26,
   "outputs": [
    {
     "name": "stdout",
     "output_type": "stream",
     "text": [
      "Initial matrix:                                                                                                  \n",
      "5.0000000000000000 -2.7000000000000002  0.0000000000000000  0.0000000000000000  0.0000000000000000\n",
      "1.5000000000000000  5.0000000000000000 -2.7000000000000002  0.0000000000000000  0.0000000000000000\n",
      "0.0000000000000000  1.5000000000000000  5.0000000000000000 -2.7000000000000002  0.0000000000000000\n",
      "0.0000000000000000  0.0000000000000000  1.5000000000000000  5.0000000000000000 -2.7000000000000002\n",
      "0.0000000000000000  0.0000000000000000  0.0000000000000000  1.5000000000000000  5.0000000000000000\n",
      "Right part: \n",
      "1\n",
      "2\n",
      "3\n",
      "4\n",
      "5\n",
      "ε = 1e-11\n",
      "Simple iteration                  \n",
      "0.5807143667916408\n",
      "0.7050266051710281\n",
      "0.8874831763129790\n",
      "0.9240576997472105\n",
      "0.7227826900756164\n",
      "Amount of iterations: 74\n",
      "Seidel                  \n",
      "0.5807143667920648\n",
      "0.7050266051711349\n",
      "0.8874831763121213\n",
      "0.9240576997473253\n",
      "0.7227826900758025\n",
      "Amount of iterations: 39\n",
      "Found solution"
     ]
    },
    {
     "ename": "ValueError",
     "evalue": "matmul: Input operand 1 has a mismatch in its core dimension 0, with gufunc signature (n?,k),(k,m?)->(n?,m?) (size 3 is different from 5)",
     "output_type": "error",
     "traceback": [
      "\u001B[0;31m---------------------------------------------------------------------------\u001B[0m",
      "\u001B[0;31mValueError\u001B[0m                                Traceback (most recent call last)",
      "Cell \u001B[0;32mIn[26], line 8\u001B[0m\n\u001B[1;32m      5\u001B[0m b3 \u001B[38;5;241m=\u001B[39m np\u001B[38;5;241m.\u001B[39marray([[\u001B[38;5;241m1\u001B[39m], [\u001B[38;5;241m2\u001B[39m], [\u001B[38;5;241m3\u001B[39m], [\u001B[38;5;241m4\u001B[39m], [\u001B[38;5;241m5\u001B[39m]])\n\u001B[1;32m      7\u001B[0m pd\u001B[38;5;241m.\u001B[39moptions\u001B[38;5;241m.\u001B[39mdisplay\u001B[38;5;241m.\u001B[39mfloat_format \u001B[38;5;241m=\u001B[39m \u001B[38;5;124m\"\u001B[39m\u001B[38;5;132;01m{:,.16f}\u001B[39;00m\u001B[38;5;124m\"\u001B[39m\u001B[38;5;241m.\u001B[39mformat\n\u001B[0;32m----> 8\u001B[0m \u001B[43manswer\u001B[49m\u001B[43m(\u001B[49m\u001B[43ma3\u001B[49m\u001B[43m,\u001B[49m\u001B[43m \u001B[49m\u001B[43mb3\u001B[49m\u001B[43m,\u001B[49m\u001B[43m \u001B[49m\u001B[43meps\u001B[49m\u001B[38;5;241;43m=\u001B[39;49m\u001B[38;5;241;43m10e-12\u001B[39;49m\u001B[43m)\u001B[49m\n",
      "Cell \u001B[0;32mIn[23], line 30\u001B[0m, in \u001B[0;36manswer\u001B[0;34m(a, b, eps)\u001B[0m\n\u001B[1;32m     28\u001B[0m diff \u001B[38;5;241m=\u001B[39m linalg\u001B[38;5;241m.\u001B[39mnorm(x_iter \u001B[38;5;241m-\u001B[39m x_seidel)\n\u001B[1;32m     29\u001B[0m \u001B[38;5;28mprint\u001B[39m(\u001B[38;5;124m\"\u001B[39m\u001B[38;5;124mFound solution\u001B[39m\u001B[38;5;124m\"\u001B[39m, end\u001B[38;5;241m=\u001B[39m\u001B[38;5;124m\"\u001B[39m\u001B[38;5;124m\"\u001B[39m)\n\u001B[0;32m---> 30\u001B[0m print_matrix(\u001B[43mx_iter\u001B[49m\u001B[43m \u001B[49m\u001B[38;5;241;43m@\u001B[39;49m\u001B[43m \u001B[49m\u001B[43ma1\u001B[49m)\n\u001B[1;32m     31\u001B[0m \u001B[38;5;28mprint\u001B[39m(\u001B[38;5;124m\"\u001B[39m\u001B[38;5;124mabs(x_iter - x_seidel) =\u001B[39m\u001B[38;5;124m\"\u001B[39m, diff)\n",
      "\u001B[0;31mValueError\u001B[0m: matmul: Input operand 1 has a mismatch in its core dimension 0, with gufunc signature (n?,k),(k,m?)->(n?,m?) (size 3 is different from 5)"
     ]
    }
   ],
   "source": [
    "n = 5\n",
    "k = [1.5 * np.ones(n - 1), 5 * np.ones(n), -2.7 * np.ones(n - 1)]\n",
    "offset = [-1, 0, 1]\n",
    "a3 = diags(k, offset).toarray()\n",
    "b3 = np.array([[1], [2], [3], [4], [5]])\n",
    "\n",
    "pd.options.display.float_format = \"{:,.16f}\".format\n",
    "answer(a3, b3, eps=10e-12)"
   ],
   "metadata": {
    "collapsed": false
   }
  },
  {
   "cell_type": "code",
   "execution_count": null,
   "outputs": [],
   "source": [
    "a4 = np.array([[15, 6, 7], [2, -4, -2], [3, 2, 6]])\n",
    "b4 = np.array([[1.5], [1.5], [1.5]])\n",
    "answer(a4, b4, eps=10e-15)"
   ],
   "metadata": {
    "collapsed": false
   }
  },
  {
   "cell_type": "code",
   "execution_count": null,
   "outputs": [],
   "source": [
    "from scipy import io\n",
    "\n",
    "a5 = io.mmread(\"bcsstk05.mtx\").toarray()\n",
    "b5 = np.ones((a5.shape[0], 1))\n",
    "\n",
    "x5 = linalg.solve(a5, b5)\n",
    "print(x5)\n",
    "(x_seidel, x_seidel_count) = sle.solve(a5, b5, sle.SolveMethod.Seidel, eps=10e-15)"
   ],
   "metadata": {
    "collapsed": false
   }
  },
  {
   "cell_type": "code",
   "execution_count": null,
   "outputs": [],
   "source": [
    "print(x5 - x_seidel)"
   ],
   "metadata": {
    "collapsed": false
   }
  }
 ],
 "metadata": {
  "kernelspec": {
   "display_name": "Python 3",
   "language": "python",
   "name": "python3"
  },
  "language_info": {
   "codemirror_mode": {
    "name": "ipython",
    "version": 2
   },
   "file_extension": ".py",
   "mimetype": "text/x-python",
   "name": "python",
   "nbconvert_exporter": "python",
   "pygments_lexer": "ipython2",
   "version": "2.7.6"
  }
 },
 "nbformat": 4,
 "nbformat_minor": 0
}
