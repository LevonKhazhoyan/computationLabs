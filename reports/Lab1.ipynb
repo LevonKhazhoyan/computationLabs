{
 "cells": [
  {
   "cell_type": "code",
   "execution_count": 2,
   "metadata": {
    "collapsed": true
   },
   "outputs": [],
   "source": [
    "from src.utils import print_matrix\n",
    "import numpy as np\n",
    "from scipy import linalg\n",
    "from scipy.sparse import diags\n",
    "from src import conditional\n",
    "\n",
    "\n",
    "def answer(\n",
    "    a: np.ndarray, a_wave: np.ndarray, b: np.ndarray, b_wave: np.ndarray\n",
    ") -> None:\n",
    "    print(\"Matrix:\", end=\"\")\n",
    "\n",
    "    print_matrix(a)\n",
    "\n",
    "    spectral = conditional.spectral(a)\n",
    "    volume = conditional.volume(a)\n",
    "    angle = conditional.angle(a)\n",
    "    print(\"Condition numbers:\")\n",
    "    print(\"conditional_s = \", spectral, \"\\nconditional_v = \", volume, \"\\nconditional_a = \", angle)\n",
    "\n",
    "    print(\"Right part:\", end=\"\")\n",
    "    print_matrix(b)\n",
    "    answer_orig = linalg.solve(a, b)\n",
    "    print(\"Solution:\", end=\"\")\n",
    "    print_matrix(answer_orig)\n",
    "\n",
    "    print(\"Varied matrix:\", end=\"\")\n",
    "    print_matrix(a_wave)\n",
    "    print(\"Varied right part:\", end=\"\")\n",
    "    print_matrix(b_wave)\n",
    "    answer_varied = linalg.solve(a_wave, b_wave)\n",
    "    print(\"Solution of varied matrix:\", end=\"\")\n",
    "    print_matrix(answer_varied)\n",
    "\n",
    "    print(\"Absolute value of solution and varied solution:\", end=\"\")\n",
    "    print_matrix(np.abs(answer_varied - answer_orig))"
   ]
  },
  {
   "cell_type": "code",
   "execution_count": 3,
   "outputs": [
    {
     "name": "stdout",
     "output_type": "stream",
     "text": [
      "Matrix:         \n",
      "1.00 0.99\n",
      "0.99 0.98\n",
      "Condition numbers:\n",
      "conditional_s =  39205.99999999993 \n",
      "conditional_v =  19602.00002550756 \n",
      "conditional_a =  19602.000025507565\n",
      "Right part:    \n",
      "1.99\n",
      "1.97\n",
      "Solution:   \n",
      "1.0\n",
      "1.0\n",
      "Varied matrix:       \n",
      "1.0 0.9\n",
      "0.9 1.0\n",
      "Varied right part: \n",
      "2\n",
      "2\n",
      "Solution of varied matrix:        \n",
      "1.052632\n",
      "1.052632\n",
      "Absolute value of solution and varied solution:        \n",
      "0.052632\n",
      "0.052632\n"
     ]
    }
   ],
   "source": [
    "a1 = np.array([[1, 0.99], [0.99, 0.98]])\n",
    "a1_wave = np.array([[1, 0.9], [0.9, 1]])\n",
    "b1 = np.array([[1.99], [1.97]])\n",
    "b1_wave = np.array([[2], [2]])\n",
    "answer(a1, a1_wave, b1, b1_wave)"
   ],
   "metadata": {
    "collapsed": false
   }
  },
  {
   "cell_type": "code",
   "execution_count": 4,
   "outputs": [
    {
     "name": "stdout",
     "output_type": "stream",
     "text": [
      "Matrix:                                   \n",
      "1.000000 0.500000 0.333333 0.250000\n",
      "0.500000 0.333333 0.250000 0.200000\n",
      "0.333333 0.250000 0.200000 0.166667\n",
      "0.250000 0.200000 0.166667 0.142857\n",
      "Condition numbers:\n",
      "conditional_s =  15613.793559642663 \n",
      "conditional_v =  937085.8716078785 \n",
      "conditional_a =  4020.91345343289\n",
      "Right part:        \n",
      "2.083333\n",
      "1.283333\n",
      "0.950000\n",
      "0.759524\n",
      "Solution:   \n",
      "1.0\n",
      "1.0\n",
      "1.0\n",
      "1.0\n",
      "Varied matrix:                                   \n",
      "0.980000 0.500000 0.333333 0.250000\n",
      "0.500000 0.333333 0.250000 0.200000\n",
      "0.333333 0.250000 0.200000 0.166667\n",
      "0.250000 0.200000 0.173667 0.142857\n",
      "Varied right part:        \n",
      "2.083333\n",
      "1.259524\n",
      "0.950000\n",
      "0.766190\n",
      "Solution of varied matrix:         \n",
      " 1.936051\n",
      "-1.730408\n",
      "-1.640097\n",
      " 6.391628\n",
      "Absolute value of solution and varied solution:        \n",
      "0.936051\n",
      "2.730408\n",
      "2.640097\n",
      "5.391628\n"
     ]
    }
   ],
   "source": [
    "a2 = linalg.hilbert(4)\n",
    "a2_wave = linalg.hilbert(4)\n",
    "a2_wave[0][0] -= 0.02\n",
    "a2_wave[3][2] += 0.007\n",
    "b2 = np.sum(linalg.hilbert(4), axis=0)\n",
    "b2_wave = np.sum(linalg.hilbert(4), axis=0)\n",
    "b2_wave[1] -= 1 / 42\n",
    "b2_wave[3] += 1 / 150\n",
    "answer(a2, a2_wave, b2, b2_wave)"
   ],
   "metadata": {
    "collapsed": false
   }
  },
  {
   "cell_type": "code",
   "execution_count": 5,
   "outputs": [
    {
     "name": "stdout",
     "output_type": "stream",
     "text": [
      "Matrix:                       \n",
      "5.0 -2.7  0.0  0.0  0.0\n",
      "1.5  5.0 -2.7  0.0  0.0\n",
      "0.0  1.5  5.0 -2.7  0.0\n",
      "0.0  0.0  1.5  5.0 -2.7\n",
      "0.0  0.0  0.0  1.5  5.0\n",
      "Condition numbers:\n",
      "conditional_s =  5.267112585745751 \n",
      "conditional_v =  1.1159013847347943 \n",
      "conditional_a =  1.068564545181473\n",
      "Right part: \n",
      "1\n",
      "2\n",
      "3\n",
      "4\n",
      "5\n",
      "Solution:        \n",
      "0.580714\n",
      "0.705027\n",
      "0.887483\n",
      "0.924058\n",
      "0.722783\n",
      "Varied matrix:                                     \n",
      "5.0 -2.737037  0.00  0.000000  0.0000\n",
      "1.5  5.000000 -2.70  0.000000  0.0000\n",
      "0.0  1.500000  5.05 -2.700000  0.0000\n",
      "0.0  0.000000  1.50  4.999447 -2.7000\n",
      "0.0  0.000000  0.00  1.500000  5.0646\n",
      "Varied right part:      \n",
      "0.9900\n",
      "2.0010\n",
      "3.0015\n",
      "3.9080\n",
      "5.0000\n",
      "Solution of varied matrix:        \n",
      "0.579791\n",
      "0.697453\n",
      "0.872575\n",
      "0.907845\n",
      "0.718365\n",
      "Absolute value of solution and varied solution:        \n",
      "0.000923\n",
      "0.007574\n",
      "0.014908\n",
      "0.016213\n",
      "0.004418\n"
     ]
    }
   ],
   "source": [
    "n = 5\n",
    "k = [1.5 * np.ones(n - 1), 5 * np.ones(n), -2.7 * np.ones(n - 1)]\n",
    "offset = [-1, 0, 1]\n",
    "a3 = diags(k, offset).toarray()\n",
    "\n",
    "a3_wave = a3.copy()\n",
    "a3_wave[2][2] += 0.05\n",
    "a3_wave[0][1] -= 1 / 27\n",
    "a3_wave[3][3] -= 1 / 1808\n",
    "a3_wave[4][4] += 0.0646\n",
    "\n",
    "b3 = np.array([[1], [2], [3], [4], [5]])\n",
    "b3_wave = np.array([[0.99], [2.001], [3.0015], [3.908], [5]])\n",
    "answer(a3, a3_wave, b3, b3_wave)"
   ],
   "metadata": {
    "collapsed": false
   }
  },
  {
   "cell_type": "code",
   "execution_count": 6,
   "outputs": [
    {
     "name": "stdout",
     "output_type": "stream",
     "text": [
      "Matrix:             \n",
      "-402.9  200.7\n",
      "1204.2 -603.6\n",
      "Condition numbers:\n",
      "conditional_s =  1338.002985074648 \n",
      "conditional_v =  402.20004913452595 \n",
      "conditional_a =  402.2000491345307\n",
      "Right part:    \n",
      " 200\n",
      "-600\n",
      "Solution:         \n",
      "-0.199005\n",
      " 0.597015\n",
      "Varied matrix:               \n",
      "-402.94  200.68\n",
      "1204.12 -603.96\n",
      "Varied right part:    \n",
      " 199\n",
      "-601\n",
      "Solution of varied matrix:        \n",
      "0.245008\n",
      "1.483574\n",
      "Absolute value of solution and varied solution:        \n",
      "0.444013\n",
      "0.886559\n"
     ]
    }
   ],
   "source": [
    "a4 = np.array([[-402.90, 200.70], [1204.20, -603.60]])\n",
    "a4_wave = np.array([[-402.94, 200.68], [1204.12, -603.96]])\n",
    "b4 = np.array([[200], [-600]])\n",
    "b4_wave = np.array([[199], [-601]])\n",
    "answer(a4, a4_wave, b4, b4_wave)"
   ],
   "metadata": {
    "collapsed": false
   }
  },
  {
   "cell_type": "code",
   "execution_count": null,
   "outputs": [],
   "source": [],
   "metadata": {
    "collapsed": false
   }
  }
 ],
 "metadata": {
  "kernelspec": {
   "display_name": "Python 3",
   "language": "python",
   "name": "python3"
  },
  "language_info": {
   "codemirror_mode": {
    "name": "ipython",
    "version": 2
   },
   "file_extension": ".py",
   "mimetype": "text/x-python",
   "name": "python",
   "nbconvert_exporter": "python",
   "pygments_lexer": "ipython2",
   "version": "2.7.6"
  }
 },
 "nbformat": 4,
 "nbformat_minor": 0
}
